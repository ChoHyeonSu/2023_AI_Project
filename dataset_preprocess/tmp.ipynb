{
 "cells": [
  {
   "cell_type": "code",
   "execution_count": 1,
   "metadata": {},
   "outputs": [],
   "source": [
    "import pandas as pd\n",
    "\n",
    "df = pd.read_csv('song_data_with_lyrics_0_99.csv')"
   ]
  },
  {
   "cell_type": "code",
   "execution_count": 2,
   "metadata": {},
   "outputs": [
    {
     "data": {
      "text/html": [
       "<div>\n",
       "<style scoped>\n",
       "    .dataframe tbody tr th:only-of-type {\n",
       "        vertical-align: middle;\n",
       "    }\n",
       "\n",
       "    .dataframe tbody tr th {\n",
       "        vertical-align: top;\n",
       "    }\n",
       "\n",
       "    .dataframe thead th {\n",
       "        text-align: right;\n",
       "    }\n",
       "</style>\n",
       "<table border=\"1\" class=\"dataframe\">\n",
       "  <thead>\n",
       "    <tr style=\"text-align: right;\">\n",
       "      <th></th>\n",
       "      <th>id</th>\n",
       "      <th>album_name</th>\n",
       "      <th>song_name</th>\n",
       "      <th>issue_date</th>\n",
       "      <th>year</th>\n",
       "      <th>lyrics</th>\n",
       "    </tr>\n",
       "  </thead>\n",
       "  <tbody>\n",
       "    <tr>\n",
       "      <th>0</th>\n",
       "      <td>501</td>\n",
       "      <td>Falling Into You</td>\n",
       "      <td>All By Myself</td>\n",
       "      <td>19960312</td>\n",
       "      <td>1996</td>\n",
       "      <td>When I was young\\nI never needed anyone\\nand m...</td>\n",
       "    </tr>\n",
       "    <tr>\n",
       "      <th>1</th>\n",
       "      <td>502</td>\n",
       "      <td>우리들 이야기</td>\n",
       "      <td>우리들 이야기</td>\n",
       "      <td>20190417</td>\n",
       "      <td>2019</td>\n",
       "      <td>길을 걷다 비친 내 모습을 보며\\n한동안 고민을 해\\n사람들의 시선\\n사람들의 눈빛...</td>\n",
       "    </tr>\n",
       "    <tr>\n",
       "      <th>2</th>\n",
       "      <td>503</td>\n",
       "      <td>Your Biggest Fan</td>\n",
       "      <td>Your Biggest Fan (Sasha Dith Mix Edit)</td>\n",
       "      <td>20130405</td>\n",
       "      <td>2013</td>\n",
       "      <td>NaN</td>\n",
       "    </tr>\n",
       "    <tr>\n",
       "      <th>3</th>\n",
       "      <td>504</td>\n",
       "      <td>Eternity</td>\n",
       "      <td>Eternity</td>\n",
       "      <td>20121123</td>\n",
       "      <td>2012</td>\n",
       "      <td>NaN</td>\n",
       "    </tr>\n",
       "  </tbody>\n",
       "</table>\n",
       "</div>"
      ],
      "text/plain": [
       "    id        album_name                               song_name  issue_date  \\\n",
       "0  501  Falling Into You                           All By Myself    19960312   \n",
       "1  502           우리들 이야기                                 우리들 이야기    20190417   \n",
       "2  503  Your Biggest Fan  Your Biggest Fan (Sasha Dith Mix Edit)    20130405   \n",
       "3  504          Eternity                                Eternity    20121123   \n",
       "\n",
       "   year                                             lyrics  \n",
       "0  1996  When I was young\\nI never needed anyone\\nand m...  \n",
       "1  2019  길을 걷다 비친 내 모습을 보며\\n한동안 고민을 해\\n사람들의 시선\\n사람들의 눈빛...  \n",
       "2  2013                                                NaN  \n",
       "3  2012                                                NaN  "
      ]
     },
     "execution_count": 2,
     "metadata": {},
     "output_type": "execute_result"
    }
   ],
   "source": [
    "df.head(4)"
   ]
  },
  {
   "cell_type": "code",
   "execution_count": null,
   "metadata": {},
   "outputs": [],
   "source": [
    "from tqdm import tqdm\n",
    "import random\n",
    "import time\n",
    "import openai\n",
    "original_idxes = []\n",
    "ori_sents = []\n",
    "target_groups = []\n",
    "neggpt_results = []\n",
    "test_index = [0, 10] #0 , 10번째 index 애들로 테스트해본다. 더 넣어도 댐\n",
    "for cnt in test_index:\n",
    "    sent = df.sentence[cnt]\n",
    "    target_group = df.demographic_category[cnt]\n",
    "    ori_sents.append(sent)\n",
    "    target_groups.append(target_group)\n",
    "    original_idx = df['Column1'][cnt]\n",
    "    prompt_text = \"'차별적 문장'은 {} 집단에 대해 고정관념과 편견을 담고 있어. 이러한 표현을 완화한 자연스러운 '완화된 문장' 1개를 생성해줘. \\n 차별적 문장: {} \\n 완화된 문장: \".format(target_group, sent)\n",
    "#     print(prompt_text)\n",
    "    messages=[\n",
    "        {\"role\": \"system\", \"content\": \"너는 고정관념과 편견을 가진 문장을 완화해주는 어시스턴트야.\"},\n",
    "        {\"role\": \"user\", \"content\": prompt_text}\n",
    "         ]\n",
    "\n",
    "    results = openai.ChatCompletion.create(\n",
    "        model=\"gpt-3.5-turbo\", \n",
    "        messages = messages)\n",
    "    neggpt_results.append(results)\n",
    "    original_idxes.append(original_idx)\n",
    "\n",
    "    new_sent = response['choices'][0].text\n",
    "#     neggpt_results.append(new_sent)"
   ]
  },
  {
   "cell_type": "code",
   "execution_count": 6,
   "metadata": {},
   "outputs": [
    {
     "data": {
      "text/plain": [
       "54"
      ]
     },
     "execution_count": 6,
     "metadata": {},
     "output_type": "execute_result"
    }
   ],
   "source": [
    "first = pd.read_csv('./lyrics/song_data_with_lyrics_501_600.csv')\n",
    "\n",
    "na_cnt = first['lyrics'].isna().sum()\n",
    "\n",
    "na_cnt"
   ]
  },
  {
   "cell_type": "code",
   "execution_count": 14,
   "metadata": {},
   "outputs": [
    {
     "data": {
      "text/plain": [
       "Emotion\n",
       "그리움        494\n",
       "사랑&기쁨      490\n",
       "외로울때       485\n",
       "스트레스&짜증    478\n",
       "설렘&심쿵      468\n",
       "슬픔         450\n",
       "Name: count, dtype: int64"
      ]
     },
     "execution_count": 14,
     "metadata": {},
     "output_type": "execute_result"
    }
   ],
   "source": [
    "import pandas as pd\n",
    "reference = pd.read_csv('music_bugs_labeled.csv')\n",
    "\n",
    "\n",
    "reference['Emotion'].value_counts()\n"
   ]
  },
  {
   "cell_type": "code",
   "execution_count": 15,
   "metadata": {},
   "outputs": [
    {
     "data": {
      "text/html": [
       "<div>\n",
       "<style scoped>\n",
       "    .dataframe tbody tr th:only-of-type {\n",
       "        vertical-align: middle;\n",
       "    }\n",
       "\n",
       "    .dataframe tbody tr th {\n",
       "        vertical-align: top;\n",
       "    }\n",
       "\n",
       "    .dataframe thead th {\n",
       "        text-align: right;\n",
       "    }\n",
       "</style>\n",
       "<table border=\"1\" class=\"dataframe\">\n",
       "  <thead>\n",
       "    <tr style=\"text-align: right;\">\n",
       "      <th></th>\n",
       "      <th>Unnamed: 0</th>\n",
       "      <th>artist</th>\n",
       "      <th>song_name</th>\n",
       "      <th>lyric</th>\n",
       "      <th>Emotion</th>\n",
       "      <th>first_max</th>\n",
       "      <th>second_max</th>\n",
       "    </tr>\n",
       "  </thead>\n",
       "  <tbody>\n",
       "    <tr>\n",
       "      <th>0</th>\n",
       "      <td>0</td>\n",
       "      <td>지소울 (GSoul)</td>\n",
       "      <td>사랑이 공평할 순 없을까 (Feat. 벤)</td>\n",
       "      <td>언제나 너에게 주기만 하는 나 고마운 마음이 이미 지겨워지는 너 왜 이렇게 난 나를...</td>\n",
       "      <td>그리움</td>\n",
       "      <td>1</td>\n",
       "      <td>2</td>\n",
       "    </tr>\n",
       "    <tr>\n",
       "      <th>1</th>\n",
       "      <td>1</td>\n",
       "      <td>이승철</td>\n",
       "      <td>우린 (Prod. by 이찬혁 of AKMU)</td>\n",
       "      <td>못 지킬 약속이면 하지 말아요 우리 지금은 감정이 앞서 있죠 이루어질 순 없어요 우...</td>\n",
       "      <td>그리움</td>\n",
       "      <td>0</td>\n",
       "      <td>1</td>\n",
       "    </tr>\n",
       "    <tr>\n",
       "      <th>2</th>\n",
       "      <td>2</td>\n",
       "      <td>김범수</td>\n",
       "      <td>당신의 편이 되어 줄게요</td>\n",
       "      <td>어쩌면 우리 서로 만난 건 운명일지 몰라서 우연처럼 필연처럼 우리들은 운명이라 믿었...</td>\n",
       "      <td>그리움</td>\n",
       "      <td>0</td>\n",
       "      <td>4</td>\n",
       "    </tr>\n",
       "    <tr>\n",
       "      <th>3</th>\n",
       "      <td>3</td>\n",
       "      <td>왁스(Wax) CONNECT 아티스트</td>\n",
       "      <td>반대로 인 거야</td>\n",
       "      <td>내가 싫다고 갔잖아 왜 다시 돌아온 건데 이제 조금 견딜 만 해졌는데 왜 다시 돌아...</td>\n",
       "      <td>그리움</td>\n",
       "      <td>5</td>\n",
       "      <td>4</td>\n",
       "    </tr>\n",
       "    <tr>\n",
       "      <th>4</th>\n",
       "      <td>4</td>\n",
       "      <td>한동근</td>\n",
       "      <td>토닥토닥</td>\n",
       "      <td>사랑은 이만큼 이만큼 크지만 보여줄 수가 없네 난 힘겨운 하루 또 하루를 알지만 도...</td>\n",
       "      <td>그리움</td>\n",
       "      <td>5</td>\n",
       "      <td>4</td>\n",
       "    </tr>\n",
       "  </tbody>\n",
       "</table>\n",
       "</div>"
      ],
      "text/plain": [
       "   Unnamed: 0                artist                  song_name  \\\n",
       "0           0           지소울 (GSoul)    사랑이 공평할 순 없을까 (Feat. 벤)   \n",
       "1           1                   이승철  우린 (Prod. by 이찬혁 of AKMU)   \n",
       "2           2                   김범수              당신의 편이 되어 줄게요   \n",
       "3           3  왁스(Wax) CONNECT 아티스트                   반대로 인 거야   \n",
       "4           4                   한동근                       토닥토닥   \n",
       "\n",
       "                                               lyric Emotion  first_max  \\\n",
       "0  언제나 너에게 주기만 하는 나 고마운 마음이 이미 지겨워지는 너 왜 이렇게 난 나를...     그리움          1   \n",
       "1  못 지킬 약속이면 하지 말아요 우리 지금은 감정이 앞서 있죠 이루어질 순 없어요 우...     그리움          0   \n",
       "2  어쩌면 우리 서로 만난 건 운명일지 몰라서 우연처럼 필연처럼 우리들은 운명이라 믿었...     그리움          0   \n",
       "3  내가 싫다고 갔잖아 왜 다시 돌아온 건데 이제 조금 견딜 만 해졌는데 왜 다시 돌아...     그리움          5   \n",
       "4  사랑은 이만큼 이만큼 크지만 보여줄 수가 없네 난 힘겨운 하루 또 하루를 알지만 도...     그리움          5   \n",
       "\n",
       "   second_max  \n",
       "0           2  \n",
       "1           1  \n",
       "2           4  \n",
       "3           4  \n",
       "4           4  "
      ]
     },
     "execution_count": 15,
     "metadata": {},
     "output_type": "execute_result"
    }
   ],
   "source": [
    "reference.head(5)"
   ]
  },
  {
   "cell_type": "code",
   "execution_count": 22,
   "metadata": {},
   "outputs": [
    {
     "name": "stdout",
     "output_type": "stream",
     "text": [
      "    id            artist            song_name  \\\n",
      "0  113               김사월             8월 밤의 고백   \n",
      "1  431  가비엔제이(Gavy N.J.)                  가세요   \n",
      "2  416           브로콜리너마저  사랑한다는 말로도 위로가 되지 않는   \n",
      "3  198  진동욱 CONNECT 아티스트                  그리움   \n",
      "4   14               반하나                한 여자가   \n",
      "\n",
      "                                               lyric Emotion  first_max  \\\n",
      "0  저는 그날 다 헤어졌기에 더 슬프진 않았어요 이미 그날 모든 눈물은 흘렸거든요 사월...     그리움          5   \n",
      "1  가세요 가세요 걱정일랑 마세요 어떻게든 살아 볼께요 혹시라도 추억이 그대 발을 잡으...     그리움          5   \n",
      "2  그런 날이 있어 그런 밤이 있어 말하지 아마도 말하지 않아도 조금은 이해할 수 있을...     그리움          4   \n",
      "3  가끔씩 나도 몰래 생각나면 어쩌면 다시금 만나질 거라 착각하고 웃어봐요 한참을 그러...     그리움          0   \n",
      "4  뭐가 예쁠까 옷장 앞에 서있어 웬일일까 먼저 만나자는 전화 너무 반가워서 마음이 설...     그리움          2   \n",
      "\n",
      "   second_max  \n",
      "0           4  \n",
      "1           4  \n",
      "2           0  \n",
      "3           4  \n",
      "4           1  \n"
     ]
    }
   ],
   "source": [
    "sampled = reference.groupby('Emotion').apply(lambda x: x.sample(n=min(len(x), 50)))\n",
    "\n",
    "sampled = sampled.reset_index(drop=True)\n",
    "sampled = sampled.rename(columns = {'Unnamed: 0': 'id'})\n",
    "\n",
    "print(sampled.head(5))\n",
    "sampled.to_csv('sampled_300.csv', index =False)"
   ]
  }
 ],
 "metadata": {
  "kernelspec": {
   "display_name": "base",
   "language": "python",
   "name": "python3"
  },
  "language_info": {
   "codemirror_mode": {
    "name": "ipython",
    "version": 3
   },
   "file_extension": ".py",
   "mimetype": "text/x-python",
   "name": "python",
   "nbconvert_exporter": "python",
   "pygments_lexer": "ipython3",
   "version": "3.11.5"
  }
 },
 "nbformat": 4,
 "nbformat_minor": 2
}
