{
 "cells": [
  {
   "cell_type": "code",
   "execution_count": 7,
   "metadata": {},
   "outputs": [],
   "source": [
    "import pandas as pd\n",
    "\n",
    "data = pd.read_csv('music_bugs_only_lines.csv')\n",
    "\n",
    "\n",
    "\n",
    "original = pd.read_csv('music_bugs_lines.csv')\n",
    "\n",
    "data['Emotion'] = original['Emotion']\n",
    "\n",
    "data.to_csv('music_bugs_only_lines.csv', index=False)"
   ]
  },
  {
   "cell_type": "code",
   "execution_count": 9,
   "metadata": {},
   "outputs": [
    {
     "name": "stderr",
     "output_type": "stream",
     "text": [
      "/tmp/ipykernel_18286/1110449952.py:3: SettingWithCopyWarning: \n",
      "A value is trying to be set on a copy of a slice from a DataFrame.\n",
      "Try using .loc[row_indexer,col_indexer] = value instead\n",
      "\n",
      "See the caveats in the documentation: https://pandas.pydata.org/pandas-docs/stable/user_guide/indexing.html#returning-a-view-versus-a-copy\n",
      "  new['lines'] = data['lyric'].apply(lambda text: [line for line in str(text).split('\\n') if line.strip()])\n"
     ]
    }
   ],
   "source": [
    "new = data[['id', 'artist', 'song_name']]\n",
    "\n",
    "new['lines'] = data['lyric'].apply(lambda text: [line for line in str(text).split('\\n') if line.strip()])\n",
    "\n",
    "new.head(5)\n",
    "\n",
    "new.to_csv('music_bugs_only_lines.csv', index=False)"
   ]
  },
  {
   "cell_type": "code",
   "execution_count": 2,
   "metadata": {},
   "outputs": [],
   "source": [
    "grouped = data.groupby('Emotion')\n",
    "\n",
    "for idx, group_data in grouped:\n",
    "    file_name = f'music_bugs_{idx}.csv'\n",
    "    group_data.to_csv(file_name, index=False)"
   ]
  },
  {
   "cell_type": "code",
   "execution_count": 3,
   "metadata": {},
   "outputs": [],
   "source": [
    "files = ['music_bugs_0_lines.csv', 'music_bugs_1_lines.csv', 'music_bugs_2_lines.csv', 'music_bugs_3_lines.csv', 'music_bugs_4_lines.csv', 'music_bugs_5_lines.csv']\n",
    "\n",
    "df = [pd.read_csv(file) for file in files]\n",
    "\n",
    "total = pd.concat(df, ignore_index= True)\n",
    "\n",
    "total.to_csv('music_bugs_lines.csv', index=False)"
   ]
  },
  {
   "cell_type": "code",
   "execution_count": 6,
   "metadata": {},
   "outputs": [],
   "source": [
    "## sampling\n",
    "\n",
    "origin = pd.read_csv('music_bugs_only_lines.csv')\n",
    "\n",
    "filtered = origin[origin['lines'].apply(lambda x: x != \"['nan']\")]\n",
    "\n",
    "sampled = filtered.groupby('Emotion').sample(n=30, random_state=1)\n",
    "\n",
    "sampled.to_csv('sample.csv', index=False)"
   ]
  },
  {
   "cell_type": "code",
   "execution_count": null,
   "metadata": {},
   "outputs": [],
   "source": []
  }
 ],
 "metadata": {
  "kernelspec": {
   "display_name": "aip",
   "language": "python",
   "name": "python3"
  },
  "language_info": {
   "codemirror_mode": {
    "name": "ipython",
    "version": 3
   },
   "file_extension": ".py",
   "mimetype": "text/x-python",
   "name": "python",
   "nbconvert_exporter": "python",
   "pygments_lexer": "ipython3",
   "version": "3.9.6"
  }
 },
 "nbformat": 4,
 "nbformat_minor": 2
}
